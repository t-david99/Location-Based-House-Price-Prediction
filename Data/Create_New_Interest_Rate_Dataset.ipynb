{
 "cells": [
  {
   "cell_type": "markdown",
   "metadata": {},
   "source": [
    "# Interest Rate Dataset w/ All Zipcodes"
   ]
  },
  {
   "cell_type": "code",
   "execution_count": 2,
   "metadata": {},
   "outputs": [],
   "source": [
    "import pandas as pd\n",
    "import numpy as np"
   ]
  },
  {
   "cell_type": "code",
   "execution_count": 3,
   "metadata": {},
   "outputs": [],
   "source": [
    "new_df1 = pd.DataFrame({\"zipcode\": np.arange(90000, 96200), \"low_am_0_median_interest_rate\": 0})\n",
    "new_df2 = pd.DataFrame({\"zipcode\": np.arange(90000, 96200), \"low_am_1_median_interest_rate\": 0})\n",
    "\n",
    "med_int_rate_new_df1 = np.zeros(shape=(1, 6200))\n",
    "med_int_rate_new_df2 = np.zeros(shape=(1, 6200))\n"
   ]
  },
  {
   "cell_type": "code",
   "execution_count": 5,
   "metadata": {},
   "outputs": [],
   "source": [
    "for i in range(len(med_int_rate_new_df1[0])):\n",
    "    if i > 5699:\n",
    "        med_int_rate_new_df1[0][i] = 6.125\n",
    "    elif i >= 400 and i < 500:\n",
    "        med_int_rate_new_df1[0][i] = 6.1245\n",
    "    elif i >= 500 and i < 600:\n",
    "        med_int_rate_new_df1[0][i] = 6.4325\n",
    "    elif (i >= 600 and i < 800) or (i >= 1900 and i < 2100) or (i >= 2300 and i < 2600) or (i >= 2700 and i < 3100) or (i >= 3900 and i < 4100) or (i >= 4400 and i < 4600) or (i >= 5000 and i < 5200) or (i >= 5300 and i < 5400) or (i >= 5800 and i < 5900):\n",
    "        med_int_rate_new_df1[0][i] = 6.375\n",
    "    elif (i >= 1000 and i < 1100) or (i >= 1300 and i < 1400) or (i >= 3300 and i < 3500) or (i >= 3700 and i < 3800) or (i >= 5900 and i < 6000):\n",
    "        med_int_rate_new_df1[0][i] = 6.499\n",
    "    elif i >= 1700 and i < 1800:\n",
    "        med_int_rate_new_df1[0][i] = 6.25\n",
    "    elif i >= 1800 and i < 1900:\n",
    "        med_int_rate_new_df1[0][i] = 6.531\n",
    "    elif i >= 2100 and i < 2200:\n",
    "        med_int_rate_new_df1[0][i] = 6.4765\n",
    "    elif i >= 2600 and i < 2700:\n",
    "        med_int_rate_new_df1[0][i] = 6.478\n",
    "    elif i >= 4100 and i < 4200:\n",
    "        med_int_rate_new_df1[0][i] = 6.49\n",
    "    elif i >= 4300 and i < 4400:\n",
    "        med_int_rate_new_df1[0][i] = 6.625\n",
    "    elif i >= 4600 and i < 4700:\n",
    "        med_int_rate_new_df1[0][i] = 6.4155\n",
    "    elif i >= 4800 and i < 4900:\n",
    "        med_int_rate_new_df1[0][i] = 6.3125\n",
    "    elif i >= 4900 and i < 5000:\n",
    "        med_int_rate_new_df1[0][i] = 6.475\n",
    "    elif i >= 5200 and i < 5300:\n",
    "        med_int_rate_new_df1[0][i] = 6.4945\n",
    "    elif i >= 5600 and i < 5700:\n",
    "        med_int_rate_new_df1[0][i] = 6.378\n",
    "    else:\n",
    "        med_int_rate_new_df1[0][i] = 6.5"
   ]
  },
  {
   "cell_type": "code",
   "execution_count": 6,
   "metadata": {},
   "outputs": [],
   "source": [
    "new_df1[\"low_am_0_median_interest_rate\"] = med_int_rate_new_df1[0]"
   ]
  },
  {
   "cell_type": "code",
   "execution_count": 7,
   "metadata": {},
   "outputs": [
    {
     "data": {
      "text/html": [
       "<div>\n",
       "<style scoped>\n",
       "    .dataframe tbody tr th:only-of-type {\n",
       "        vertical-align: middle;\n",
       "    }\n",
       "\n",
       "    .dataframe tbody tr th {\n",
       "        vertical-align: top;\n",
       "    }\n",
       "\n",
       "    .dataframe thead th {\n",
       "        text-align: right;\n",
       "    }\n",
       "</style>\n",
       "<table border=\"1\" class=\"dataframe\">\n",
       "  <thead>\n",
       "    <tr style=\"text-align: right;\">\n",
       "      <th></th>\n",
       "      <th>zipcode</th>\n",
       "      <th>low_am_0_median_interest_rate</th>\n",
       "    </tr>\n",
       "  </thead>\n",
       "  <tbody>\n",
       "    <tr>\n",
       "      <th>0</th>\n",
       "      <td>90000</td>\n",
       "      <td>6.5</td>\n",
       "    </tr>\n",
       "    <tr>\n",
       "      <th>1</th>\n",
       "      <td>90001</td>\n",
       "      <td>6.5</td>\n",
       "    </tr>\n",
       "    <tr>\n",
       "      <th>2</th>\n",
       "      <td>90002</td>\n",
       "      <td>6.5</td>\n",
       "    </tr>\n",
       "    <tr>\n",
       "      <th>3</th>\n",
       "      <td>90003</td>\n",
       "      <td>6.5</td>\n",
       "    </tr>\n",
       "    <tr>\n",
       "      <th>4</th>\n",
       "      <td>90004</td>\n",
       "      <td>6.5</td>\n",
       "    </tr>\n",
       "  </tbody>\n",
       "</table>\n",
       "</div>"
      ],
      "text/plain": [
       "   zipcode  low_am_0_median_interest_rate\n",
       "0    90000                            6.5\n",
       "1    90001                            6.5\n",
       "2    90002                            6.5\n",
       "3    90003                            6.5\n",
       "4    90004                            6.5"
      ]
     },
     "execution_count": 7,
     "metadata": {},
     "output_type": "execute_result"
    }
   ],
   "source": [
    "new_df1.head()"
   ]
  },
  {
   "cell_type": "code",
   "execution_count": 8,
   "metadata": {},
   "outputs": [],
   "source": [
    "for i in range(len(med_int_rate_new_df2[0])):\n",
    "    if (i < 200) or (i >= 2400 and i < 2500) or (i >= 5400 and i < 5500):\n",
    "        med_int_rate_new_df2[0][i] = 6.000\n",
    "    elif (i >= 200 and i < 500) or (i >= 3500 and i < 3600) or (i >= 3700 and i < 3800) or (i >= 3900 and i < 4000) or (i >= 4600 and i < 4700) or (i >= 4900 and i < 5000):\n",
    "        med_int_rate_new_df2[0][i] = 5.875\n",
    "    elif (i >= 500 and i < 600) or (i >= 2100 and i < 2200) or (i >= 2500 and i < 2600) or (i >= 4300 and i < 4400):\n",
    "        med_int_rate_new_df2[0][i] = 5.375\n",
    "    elif i >= 600 and i < 800:\n",
    "        med_int_rate_new_df2[0][i] = 4.99\n",
    "    elif (i >= 800 and i < 1000) or (i >= 1800 and i < 1900) or (i >= 3300 and i < 3400):\n",
    "        med_int_rate_new_df2[0][i] = 5.000\n",
    "    elif (i >= 1000 and i < 1100) or (i >= 2000 and i < 2100) or (i >= 4100 and i < 4300):\n",
    "        med_int_rate_new_df2[0][i] = 5.5625\n",
    "    elif (i >= 1100 and i < 1200) or (i >= 1400 and i < 1600) or (i >= 2300 and i < 2400) or (i >= 4500 and i < 4600) or (i >= 4700 and i < 4900):\n",
    "        med_int_rate_new_df2[0][i] = 5.5\n",
    "    elif (i >= 1200 and i < 1300) or (i >= 5700 and i < 5800):\n",
    "        med_int_rate_new_df2[0][i] = 5.4375\n",
    "    elif (i >= 1300 and i < 1400) or (i >= 5100 and i < 5200):\n",
    "        med_int_rate_new_df2[0][i] = 5.6875\n",
    "    elif (i >= 1600 and i < 1700) or (i >= 4000 and i < 4100):\n",
    "        med_int_rate_new_df2[0][i] = 5.8125\n",
    "    elif i >= 1700 and i < 1800:\n",
    "        med_int_rate_new_df2[0][i] = 5.4995\n",
    "    elif (i >= 1900 and i < 2000) or (i >= 3400 and i < 3500) or (i >= 5300 and i < 5400) or (i >= 5800 and i < 5900) or (i >= 6000 and i < 6100):\n",
    "        med_int_rate_new_df2[0][i] = 5.625\n",
    "    elif i >= 2700 and i < 2800:\n",
    "        med_int_rate_new_df2[0][i] = 6.5\n",
    "    elif i >= 2800 and i < 2900:\n",
    "        med_int_rate_new_df2[0][i] = 5.645\n",
    "    elif i >= 3000 and i < 3100:\n",
    "        med_int_rate_new_df2[0][i] = 5.125\n",
    "    elif i >= 3200 and i < 3300:\n",
    "        med_int_rate_new_df2[0][i] = 5.99\n",
    "    elif i >= 3600 and i < 3700:\n",
    "        med_int_rate_new_df2[0][i] = 5.3125\n",
    "    elif i >= 4400 and i < 4500:\n",
    "        med_int_rate_new_df2[0][i] = 5.9375\n",
    "    elif i >= 5000 and i < 5100:\n",
    "        med_int_rate_new_df2[0][i] = 5.119\n",
    "    elif i >= 5500 and i < 5600:\n",
    "        med_int_rate_new_df2[0][i] = 6.125\n",
    "    else:\n",
    "        med_int_rate_new_df2[0][i] = 5.75\n",
    "\n",
    "    "
   ]
  },
  {
   "cell_type": "code",
   "execution_count": 9,
   "metadata": {},
   "outputs": [],
   "source": [
    "new_df2[\"low_am_1_median_interest_rate\"] = med_int_rate_new_df2[0]"
   ]
  },
  {
   "cell_type": "code",
   "execution_count": 10,
   "metadata": {},
   "outputs": [
    {
     "data": {
      "text/html": [
       "<div>\n",
       "<style scoped>\n",
       "    .dataframe tbody tr th:only-of-type {\n",
       "        vertical-align: middle;\n",
       "    }\n",
       "\n",
       "    .dataframe tbody tr th {\n",
       "        vertical-align: top;\n",
       "    }\n",
       "\n",
       "    .dataframe thead th {\n",
       "        text-align: right;\n",
       "    }\n",
       "</style>\n",
       "<table border=\"1\" class=\"dataframe\">\n",
       "  <thead>\n",
       "    <tr style=\"text-align: right;\">\n",
       "      <th></th>\n",
       "      <th>zipcode</th>\n",
       "      <th>low_am_1_median_interest_rate</th>\n",
       "    </tr>\n",
       "  </thead>\n",
       "  <tbody>\n",
       "    <tr>\n",
       "      <th>0</th>\n",
       "      <td>90000</td>\n",
       "      <td>6.0</td>\n",
       "    </tr>\n",
       "    <tr>\n",
       "      <th>1</th>\n",
       "      <td>90001</td>\n",
       "      <td>6.0</td>\n",
       "    </tr>\n",
       "    <tr>\n",
       "      <th>2</th>\n",
       "      <td>90002</td>\n",
       "      <td>6.0</td>\n",
       "    </tr>\n",
       "    <tr>\n",
       "      <th>3</th>\n",
       "      <td>90003</td>\n",
       "      <td>6.0</td>\n",
       "    </tr>\n",
       "    <tr>\n",
       "      <th>4</th>\n",
       "      <td>90004</td>\n",
       "      <td>6.0</td>\n",
       "    </tr>\n",
       "  </tbody>\n",
       "</table>\n",
       "</div>"
      ],
      "text/plain": [
       "   zipcode  low_am_1_median_interest_rate\n",
       "0    90000                            6.0\n",
       "1    90001                            6.0\n",
       "2    90002                            6.0\n",
       "3    90003                            6.0\n",
       "4    90004                            6.0"
      ]
     },
     "execution_count": 10,
     "metadata": {},
     "output_type": "execute_result"
    }
   ],
   "source": [
    "new_df2.head()"
   ]
  },
  {
   "cell_type": "code",
   "execution_count": 16,
   "metadata": {},
   "outputs": [
    {
     "data": {
      "text/html": [
       "<div>\n",
       "<style scoped>\n",
       "    .dataframe tbody tr th:only-of-type {\n",
       "        vertical-align: middle;\n",
       "    }\n",
       "\n",
       "    .dataframe tbody tr th {\n",
       "        vertical-align: top;\n",
       "    }\n",
       "\n",
       "    .dataframe thead th {\n",
       "        text-align: right;\n",
       "    }\n",
       "</style>\n",
       "<table border=\"1\" class=\"dataframe\">\n",
       "  <thead>\n",
       "    <tr style=\"text-align: right;\">\n",
       "      <th></th>\n",
       "      <th>zipcode</th>\n",
       "      <th>low_am_0_median_interest_rate</th>\n",
       "      <th>low_am_1_median_interest_rate</th>\n",
       "    </tr>\n",
       "  </thead>\n",
       "  <tbody>\n",
       "    <tr>\n",
       "      <th>0</th>\n",
       "      <td>90000</td>\n",
       "      <td>6.5</td>\n",
       "      <td>6.0</td>\n",
       "    </tr>\n",
       "    <tr>\n",
       "      <th>1</th>\n",
       "      <td>90001</td>\n",
       "      <td>6.5</td>\n",
       "      <td>6.0</td>\n",
       "    </tr>\n",
       "    <tr>\n",
       "      <th>2</th>\n",
       "      <td>90002</td>\n",
       "      <td>6.5</td>\n",
       "      <td>6.0</td>\n",
       "    </tr>\n",
       "    <tr>\n",
       "      <th>3</th>\n",
       "      <td>90003</td>\n",
       "      <td>6.5</td>\n",
       "      <td>6.0</td>\n",
       "    </tr>\n",
       "    <tr>\n",
       "      <th>4</th>\n",
       "      <td>90004</td>\n",
       "      <td>6.5</td>\n",
       "      <td>6.0</td>\n",
       "    </tr>\n",
       "  </tbody>\n",
       "</table>\n",
       "</div>"
      ],
      "text/plain": [
       "   zipcode  low_am_0_median_interest_rate  low_am_1_median_interest_rate\n",
       "0    90000                            6.5                            6.0\n",
       "1    90001                            6.5                            6.0\n",
       "2    90002                            6.5                            6.0\n",
       "3    90003                            6.5                            6.0\n",
       "4    90004                            6.5                            6.0"
      ]
     },
     "execution_count": 16,
     "metadata": {},
     "output_type": "execute_result"
    }
   ],
   "source": [
    "new_interest_rate_dataset = new_df1.merge(new_df2, on=\"zipcode\")\n",
    "assert new_interest_rate_dataset.isnull().values.any() == False\n",
    "new_interest_rate_dataset.head()"
   ]
  },
  {
   "cell_type": "markdown",
   "metadata": {},
   "source": [
    "## Save Dataset as CSV"
   ]
  },
  {
   "cell_type": "code",
   "execution_count": 17,
   "metadata": {},
   "outputs": [],
   "source": [
    "#new_interest_rate_dataset.to_csv('median_interest_rate_all_zipcodes.csv', index=False)"
   ]
  }
 ],
 "metadata": {
  "kernelspec": {
   "display_name": "base",
   "language": "python",
   "name": "python3"
  },
  "language_info": {
   "codemirror_mode": {
    "name": "ipython",
    "version": 3
   },
   "file_extension": ".py",
   "mimetype": "text/x-python",
   "name": "python",
   "nbconvert_exporter": "python",
   "pygments_lexer": "ipython3",
   "version": "3.11.3"
  }
 },
 "nbformat": 4,
 "nbformat_minor": 2
}
